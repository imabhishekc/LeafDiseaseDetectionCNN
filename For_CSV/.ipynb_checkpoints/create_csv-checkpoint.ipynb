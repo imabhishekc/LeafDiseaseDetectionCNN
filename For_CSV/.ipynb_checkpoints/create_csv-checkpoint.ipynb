{
 "cells": [
  {
   "cell_type": "code",
   "execution_count": 1,
   "id": "20ca28bb-504a-476e-869d-90317d48cf46",
   "metadata": {},
   "outputs": [
    {
     "name": "stdout",
     "output_type": "stream",
     "text": [
      "CSV file created successfully!\n"
     ]
    }
   ],
   "source": [
    "import os\n",
    "import pandas as pd\n",
    "\n",
    "# Define the path to the dataset directory (modify this path to your actual location)\n",
    "dataset_dir = r'D:\\Anaconda3\\collegeproject\\new-plant-diseases-dataset\\New Plant Diseases Dataset(Augmented)\\train'\n",
    "\n",
    "# Initialize lists to hold image paths and labels\n",
    "image_paths = []\n",
    "labels = []\n",
    "\n",
    "# Loop through each subdirectory (assuming these are class folders) in the dataset directory\n",
    "for subfolder in os.listdir(dataset_dir):\n",
    "  # Check if it's a directory (not a file)\n",
    "  if os.path.isdir(os.path.join(dataset_dir, subfolder)):\n",
    "    label_dir = os.path.join(dataset_dir, subfolder)\n",
    "    # Process images within the class directory\n",
    "    for image_file in os.listdir(label_dir):\n",
    "      image_paths.append(os.path.join(label_dir, image_file))\n",
    "      labels.append(subfolder)  # Use subfolder name as the label\n",
    "\n",
    "# Create a DataFrame and save it as a CSV file\n",
    "df = pd.DataFrame({'image_path': image_paths, 'label': labels})\n",
    "df.to_csv('plant_diseases_dataset.csv', index=False)\n",
    "\n",
    "print(\"CSV file created successfully!\")\n"
   ]
  }
 ],
 "metadata": {
  "kernelspec": {
   "display_name": "Python 3 (ipykernel)",
   "language": "python",
   "name": "python3"
  },
  "language_info": {
   "codemirror_mode": {
    "name": "ipython",
    "version": 3
   },
   "file_extension": ".py",
   "mimetype": "text/x-python",
   "name": "python",
   "nbconvert_exporter": "python",
   "pygments_lexer": "ipython3",
   "version": "3.10.13"
  }
 },
 "nbformat": 4,
 "nbformat_minor": 5
}
