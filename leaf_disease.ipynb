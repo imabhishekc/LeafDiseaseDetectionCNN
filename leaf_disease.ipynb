{
 "cells": [
  {
   "cell_type": "markdown",
   "id": "4d66f21c-a8f1-4650-8509-48fb61bdeedc",
   "metadata": {},
   "source": [
    "#Importing Libraries"
   ]
  },
  {
   "cell_type": "code",
   "execution_count": 1,
   "id": "8d329261-6e0a-4a75-9ee5-679bf54af367",
   "metadata": {},
   "outputs": [],
   "source": [
    "import tensorflow as tf         #library for building cnn\n",
    "import matplotlib.pyplot as plt #for visualization\n",
    "import pandas as pd             #for working with datasets\n",
    "import seaborn as sns           #for data visualization"
   ]
  },
  {
   "cell_type": "markdown",
   "id": "445cfba4-245d-4ede-8955-bf555fb5af03",
   "metadata": {},
   "source": [
    "#Data Pre-processing\n",
    "#Training Image pre-processing"
   ]
  },
  {
   "cell_type": "code",
   "execution_count": 2,
   "id": "b602608a-921c-4c44-b29c-4d49724503f3",
   "metadata": {},
   "outputs": [
    {
     "name": "stdout",
     "output_type": "stream",
     "text": [
      "Found 70296 files belonging to 38 classes.\n"
     ]
    }
   ],
   "source": [
    "training_set = tf.keras.utils.image_dataset_from_directory(\n",
    "    'train',\n",
    "    labels=\"inferred\",\n",
    "    label_mode=\"categorical\",\n",
    "    class_names=None,\n",
    "    color_mode=\"rgb\",\n",
    "    batch_size=32,\n",
    "    image_size=(128, 128),\n",
    "    shuffle=True,\n",
    "    seed=None,\n",
    "    validation_split=None,\n",
    "    subset=None,\n",
    "    interpolation=\"bilinear\",\n",
    "    follow_links=False,\n",
    "    crop_to_aspect_ratio=False,\n",
    ")"
   ]
  },
  {
   "cell_type": "markdown",
   "id": "434a20bf-34be-4c34-afbc-ed4c198b50fe",
   "metadata": {},
   "source": [
    "#Validation Image Pre-processing"
   ]
  },
  {
   "cell_type": "code",
   "execution_count": 3,
   "id": "8fd32b6c-438c-4095-a28a-1a1e3ae41b7b",
   "metadata": {},
   "outputs": [
    {
     "name": "stdout",
     "output_type": "stream",
     "text": [
      "Found 17572 files belonging to 38 classes.\n"
     ]
    }
   ],
   "source": [
    "validation_set = tf.keras.utils.image_dataset_from_directory(\n",
    "    'valid',\n",
    "    labels=\"inferred\",\n",
    "    label_mode=\"categorical\",\n",
    "    class_names=None,\n",
    "    color_mode=\"rgb\",\n",
    "    batch_size=32,\n",
    "    image_size=(128, 128),\n",
    "    shuffle=True,\n",
    "    seed=None,\n",
    "    validation_split=None,\n",
    "    subset=None,\n",
    "    interpolation=\"bilinear\",\n",
    "    follow_links=False,\n",
    "    crop_to_aspect_ratio=False,\n",
    ")"
   ]
  },
  {
   "cell_type": "code",
   "execution_count": 4,
   "id": "d9875668-99c2-4be3-b6e3-7b15612c9175",
   "metadata": {},
   "outputs": [
    {
     "data": {
      "text/plain": [
       "<BatchDataset element_spec=(TensorSpec(shape=(None, 128, 128, 3), dtype=tf.float32, name=None), TensorSpec(shape=(None, 38), dtype=tf.float32, name=None))>"
      ]
     },
     "execution_count": 4,
     "metadata": {},
     "output_type": "execute_result"
    }
   ],
   "source": [
    "training_set"
   ]
  },
  {
   "cell_type": "code",
   "execution_count": 5,
   "id": "e0803445-09a6-4fb5-9e9e-70cb60730838",
   "metadata": {
    "scrolled": true
   },
   "outputs": [
    {
     "name": "stdout",
     "output_type": "stream",
     "text": [
      "tf.Tensor(\n",
      "[[[[212.5  211.5  207.5 ]\n",
      "   [210.25 209.25 205.25]\n",
      "   [206.75 205.75 201.75]\n",
      "   ...\n",
      "   [138.5  133.5  129.5 ]\n",
      "   [109.   104.   100.  ]\n",
      "   [105.   100.    96.  ]]\n",
      "\n",
      "  [[213.25 212.25 208.25]\n",
      "   [212.5  211.5  207.5 ]\n",
      "   [215.   214.   210.  ]\n",
      "   ...\n",
      "   [131.75 126.75 122.75]\n",
      "   [124.5  119.5  115.5 ]\n",
      "   [134.5  129.5  125.5 ]]\n",
      "\n",
      "  [[220.5  219.5  215.5 ]\n",
      "   [211.   210.   206.  ]\n",
      "   [211.25 210.25 206.25]\n",
      "   ...\n",
      "   [127.5  122.5  118.5 ]\n",
      "   [123.   118.   114.  ]\n",
      "   [131.25 126.25 122.25]]\n",
      "\n",
      "  ...\n",
      "\n",
      "  [[186.25 183.25 178.25]\n",
      "   [185.5  182.5  177.5 ]\n",
      "   [181.   178.   173.  ]\n",
      "   ...\n",
      "   [113.75 108.75 105.75]\n",
      "   [117.25 112.25 109.25]\n",
      "   [138.5  133.5  130.5 ]]\n",
      "\n",
      "  [[182.75 179.75 174.75]\n",
      "   [184.5  181.5  176.5 ]\n",
      "   [186.5  183.5  178.5 ]\n",
      "   ...\n",
      "   [116.75 111.75 108.75]\n",
      "   [115.   110.   107.  ]\n",
      "   [126.   121.   118.  ]]\n",
      "\n",
      "  [[184.5  181.5  176.5 ]\n",
      "   [186.5  183.5  178.5 ]\n",
      "   [184.75 181.75 176.75]\n",
      "   ...\n",
      "   [115.75 110.75 107.75]\n",
      "   [113.5  108.5  105.5 ]\n",
      "   [115.   110.   107.  ]]]\n",
      "\n",
      "\n",
      " [[[178.5  160.5  158.5 ]\n",
      "   [167.5  149.5  147.5 ]\n",
      "   [163.75 145.75 143.75]\n",
      "   ...\n",
      "   [129.5  109.5  108.5 ]\n",
      "   [131.75 111.75 110.75]\n",
      "   [134.25 114.25 113.25]]\n",
      "\n",
      "  [[175.   157.   155.  ]\n",
      "   [169.5  151.5  149.5 ]\n",
      "   [169.75 151.75 149.75]\n",
      "   ...\n",
      "   [145.25 125.25 124.25]\n",
      "   [121.5  101.5  100.5 ]\n",
      "   [127.   107.   106.  ]]\n",
      "\n",
      "  [[167.75 149.75 147.75]\n",
      "   [169.   151.   149.  ]\n",
      "   [172.   154.   152.  ]\n",
      "   ...\n",
      "   [134.   114.   113.  ]\n",
      "   [139.25 119.25 118.25]\n",
      "   [132.75 112.75 111.75]]\n",
      "\n",
      "  ...\n",
      "\n",
      "  [[193.25 182.25 176.25]\n",
      "   [191.   180.   174.  ]\n",
      "   [186.   175.   169.  ]\n",
      "   ...\n",
      "   [160.5  141.5  135.5 ]\n",
      "   [137.   118.   112.  ]\n",
      "   [142.   123.   117.  ]]\n",
      "\n",
      "  [[198.   187.   181.  ]\n",
      "   [195.   184.   178.  ]\n",
      "   [192.25 181.25 175.25]\n",
      "   ...\n",
      "   [130.5  111.5  105.5 ]\n",
      "   [139.25 120.25 114.25]\n",
      "   [157.75 138.75 132.75]]\n",
      "\n",
      "  [[195.   184.   178.  ]\n",
      "   [196.25 185.25 179.25]\n",
      "   [196.75 185.75 179.75]\n",
      "   ...\n",
      "   [144.5  125.5  119.5 ]\n",
      "   [141.75 122.75 116.75]\n",
      "   [154.   135.   129.  ]]]\n",
      "\n",
      "\n",
      " [[[144.5  154.5  153.5 ]\n",
      "   [148.5  156.75 156.  ]\n",
      "   [151.25 155.25 156.25]\n",
      "   ...\n",
      "   [137.   135.   140.  ]\n",
      "   [137.5  135.5  140.5 ]\n",
      "   [135.   133.   138.  ]]\n",
      "\n",
      "  [[146.5  154.   153.5 ]\n",
      "   [147.75 153.25 153.5 ]\n",
      "   [149.   152.25 153.5 ]\n",
      "   ...\n",
      "   [135.25 133.25 138.25]\n",
      "   [137.5  135.5  140.5 ]\n",
      "   [136.25 134.25 139.25]]\n",
      "\n",
      "  [[148.25 151.25 150.25]\n",
      "   [150.25 152.75 151.75]\n",
      "   [152.   152.5  152.25]\n",
      "   ...\n",
      "   [137.   135.   140.  ]\n",
      "   [137.   135.   140.  ]\n",
      "   [134.25 132.25 137.25]]\n",
      "\n",
      "  ...\n",
      "\n",
      "  [[ 99.    99.    99.  ]\n",
      "   [109.   109.   109.  ]\n",
      "   [ 89.5   89.5   89.5 ]\n",
      "   ...\n",
      "   [ 87.    73.    68.5 ]\n",
      "   [ 77.5   70.5   70.5 ]\n",
      "   [ 89.75  84.5   89.5 ]]\n",
      "\n",
      "  [[102.5  102.5  102.5 ]\n",
      "   [ 95.75  95.75  95.75]\n",
      "   [114.   114.   114.  ]\n",
      "   ...\n",
      "   [ 84.5   80.    77.75]\n",
      "   [114.75 109.75 109.25]\n",
      "   [ 94.    86.75  87.5 ]]\n",
      "\n",
      "  [[ 99.25  99.25  99.25]\n",
      "   [ 90.5   90.5   90.5 ]\n",
      "   [102.25 102.25 102.25]\n",
      "   ...\n",
      "   [ 80.5   81.25  81.5 ]\n",
      "   [ 98.5   96.25  94.75]\n",
      "   [ 92.25  83.25  81.25]]]\n",
      "\n",
      "\n",
      " ...\n",
      "\n",
      "\n",
      " [[[200.75 187.75 181.75]\n",
      "   [211.25 198.25 192.25]\n",
      "   [200.   187.   181.  ]\n",
      "   ...\n",
      "   [210.   197.   191.  ]\n",
      "   [207.5  194.5  188.5 ]\n",
      "   [202.5  189.5  183.5 ]]\n",
      "\n",
      "  [[212.25 199.25 193.25]\n",
      "   [211.25 198.25 192.25]\n",
      "   [199.   186.   180.  ]\n",
      "   ...\n",
      "   [205.75 192.75 186.75]\n",
      "   [200.25 187.25 181.25]\n",
      "   [193.75 180.75 174.75]]\n",
      "\n",
      "  [[208.75 195.75 189.75]\n",
      "   [209.25 196.25 190.25]\n",
      "   [213.25 200.25 194.25]\n",
      "   ...\n",
      "   [208.   195.   189.  ]\n",
      "   [203.25 190.25 184.25]\n",
      "   [202.75 189.75 183.75]]\n",
      "\n",
      "  ...\n",
      "\n",
      "  [[200.75 182.75 180.75]\n",
      "   [201.25 183.25 181.25]\n",
      "   [197.75 179.75 177.75]\n",
      "   ...\n",
      "   [199.75 179.75 178.75]\n",
      "   [194.25 174.25 173.25]\n",
      "   [193.75 173.75 172.75]]\n",
      "\n",
      "  [[198.5  180.5  178.5 ]\n",
      "   [196.75 178.75 176.75]\n",
      "   [200.5  182.5  180.5 ]\n",
      "   ...\n",
      "   [202.5  182.5  181.5 ]\n",
      "   [195.75 175.75 174.75]\n",
      "   [201.25 181.25 180.25]]\n",
      "\n",
      "  [[201.75 183.75 181.75]\n",
      "   [192.25 174.25 172.25]\n",
      "   [197.   179.   177.  ]\n",
      "   ...\n",
      "   [198.5  178.5  177.5 ]\n",
      "   [198.25 178.25 177.25]\n",
      "   [200.5  180.5  179.5 ]]]\n",
      "\n",
      "\n",
      " [[[ 88.5   80.5   95.5 ]\n",
      "   [ 97.5   89.5  104.5 ]\n",
      "   [105.25  97.25 112.25]\n",
      "   ...\n",
      "   [129.5  120.5  137.5 ]\n",
      "   [134.5  125.5  142.5 ]\n",
      "   [131.75 122.75 139.75]]\n",
      "\n",
      "  [[103.    95.   110.  ]\n",
      "   [101.    93.   108.  ]\n",
      "   [ 99.25  91.25 106.25]\n",
      "   ...\n",
      "   [137.5  128.5  145.5 ]\n",
      "   [123.   114.   131.  ]\n",
      "   [128.75 119.75 136.75]]\n",
      "\n",
      "  [[ 86.5   78.5   93.5 ]\n",
      "   [ 99.    91.   106.  ]\n",
      "   [104.25  96.25 111.25]\n",
      "   ...\n",
      "   [124.5  115.5  132.5 ]\n",
      "   [133.75 124.75 141.75]\n",
      "   [125.   116.   133.  ]]\n",
      "\n",
      "  ...\n",
      "\n",
      "  [[100.75  91.75 108.75]\n",
      "   [ 92.25  83.25 100.25]\n",
      "   [103.    94.   111.  ]\n",
      "   ...\n",
      "   [123.   115.   138.  ]\n",
      "   [120.5  112.5  135.5 ]\n",
      "   [115.5  107.5  130.5 ]]\n",
      "\n",
      "  [[ 95.5   86.5  103.5 ]\n",
      "   [ 99.25  90.25 107.25]\n",
      "   [105.5   96.5  113.5 ]\n",
      "   ...\n",
      "   [121.25 113.25 136.25]\n",
      "   [118.75 110.75 133.75]\n",
      "   [119.25 111.25 134.25]]\n",
      "\n",
      "  [[ 95.    86.   103.  ]\n",
      "   [ 97.25  88.25 105.25]\n",
      "   [103.5   94.5  111.5 ]\n",
      "   ...\n",
      "   [122.25 114.25 137.25]\n",
      "   [121.5  113.5  136.5 ]\n",
      "   [115.75 107.75 130.75]]]\n",
      "\n",
      "\n",
      " [[[  1.     1.     1.  ]\n",
      "   [  1.     1.     1.  ]\n",
      "   [  1.     1.     1.  ]\n",
      "   ...\n",
      "   [  1.     1.     1.  ]\n",
      "   [  1.     1.     1.  ]\n",
      "   [  1.     1.     1.  ]]\n",
      "\n",
      "  [[  1.     1.     1.  ]\n",
      "   [  1.     1.     1.  ]\n",
      "   [  1.     1.     1.  ]\n",
      "   ...\n",
      "   [  1.     1.     1.  ]\n",
      "   [  1.     1.     1.  ]\n",
      "   [  1.     1.     1.  ]]\n",
      "\n",
      "  [[  1.     1.     1.  ]\n",
      "   [  1.     1.     1.  ]\n",
      "   [  1.     1.     1.  ]\n",
      "   ...\n",
      "   [  1.     1.     1.  ]\n",
      "   [  1.     1.     1.  ]\n",
      "   [  1.     1.     1.  ]]\n",
      "\n",
      "  ...\n",
      "\n",
      "  [[ 97.5  101.5   54.5 ]\n",
      "   [ 99.5  104.75  58.  ]\n",
      "   [ 99.   107.    58.5 ]\n",
      "   ...\n",
      "   [  1.     1.     1.  ]\n",
      "   [  1.     1.     1.  ]\n",
      "   [  1.     1.     1.  ]]\n",
      "\n",
      "  [[ 95.5   97.    55.75]\n",
      "   [ 83.25  87.25  45.25]\n",
      "   [ 88.    95.25  51.  ]\n",
      "   ...\n",
      "   [  1.     1.     1.  ]\n",
      "   [  1.     1.     1.  ]\n",
      "   [  1.     1.     1.  ]]\n",
      "\n",
      "  [[ 88.75  87.75  49.75]\n",
      "   [ 93.75  96.75  57.5 ]\n",
      "   [ 98.75 105.5   64.5 ]\n",
      "   ...\n",
      "   [  1.     1.     1.  ]\n",
      "   [  1.     1.     1.  ]\n",
      "   [  1.     1.     1.  ]]]], shape=(32, 128, 128, 3), dtype=float32) (32, 128, 128, 3)\n",
      "tf.Tensor(\n",
      "[[0. 0. 0. ... 0. 0. 0.]\n",
      " [0. 0. 0. ... 0. 0. 0.]\n",
      " [0. 0. 0. ... 0. 0. 0.]\n",
      " ...\n",
      " [0. 0. 0. ... 0. 0. 0.]\n",
      " [0. 0. 0. ... 0. 0. 0.]\n",
      " [0. 0. 0. ... 0. 0. 0.]], shape=(32, 38), dtype=float32) (32, 38)\n"
     ]
    }
   ],
   "source": [
    "for x,y in training_set:\n",
    "    print(x, x.shape)\n",
    "    print(y, y.shape)\n",
    "    break"
   ]
  },
  {
   "cell_type": "markdown",
   "id": "d2d80016-466e-47e8-9107-aa70e5d3a7d2",
   "metadata": {},
   "source": [
    "### TO avoid Overshooting\n",
    "#1. Choose small learning rate default 0.001 we are taking 0.0001\n",
    "#2. There may be chance of Underfitting, so increase number of neuron\n",
    "#3. Add more Convolution layer to extract more features from images there may be possibly that model unable to capture relevant feature or model is confusing due to lack of feature so feed with more feature."
   ]
  },
  {
   "cell_type": "markdown",
   "id": "10a47539-e9c1-4333-afed-bdb3fc939fd7",
   "metadata": {},
   "source": [
    "#Building Model"
   ]
  },
  {
   "cell_type": "code",
   "execution_count": 8,
   "id": "9e59c2cd-7c62-4ddb-9d7c-48feca0edbe6",
   "metadata": {},
   "outputs": [],
   "source": [
    "from tensorflow.keras.layers import Dense,Conv2D,MaxPool2D,Flatten,Dropout\n",
    "from tensorflow.keras.models import Sequential"
   ]
  },
  {
   "cell_type": "code",
   "execution_count": 9,
   "id": "73f1aece-a417-43a8-837d-f19285d5e811",
   "metadata": {},
   "outputs": [],
   "source": [
    "model = Sequential()"
   ]
  },
  {
   "cell_type": "markdown",
   "id": "71af1c61-328c-4c75-b8e8-7bade3ee1a9f",
   "metadata": {},
   "source": [
    "#Building Convolution layer"
   ]
  },
  {
   "cell_type": "code",
   "execution_count": 11,
   "id": "87dd25b5-40a2-471c-92fc-2dfefb04fc71",
   "metadata": {},
   "outputs": [],
   "source": [
    "model.add(Conv2D(filters=32,kernel_size=3,padding='same',activation='relu',input_shape=[128,128,3]))\n",
    "model.add(Conv2D(filters=32,kernel_size=3,activation='relu'))\n",
    "model.add(MaxPool2D(pool_size=2,strides=2))"
   ]
  },
  {
   "cell_type": "code",
   "execution_count": 12,
   "id": "b25060b7-ccb0-46e7-aa32-04c7e7b2618a",
   "metadata": {},
   "outputs": [],
   "source": [
    "model.add(Conv2D(filters=64,kernel_size=3,padding='same',activation='relu'))\n",
    "model.add(Conv2D(filters=64,kernel_size=3,activation='relu'))\n",
    "model.add(MaxPool2D(pool_size=2,strides=2))"
   ]
  },
  {
   "cell_type": "code",
   "execution_count": 13,
   "id": "36c5d3c7-889a-4971-bde3-f23ab0580399",
   "metadata": {},
   "outputs": [],
   "source": [
    "model.add(Conv2D(filters=128,kernel_size=3,padding='same',activation='relu'))\n",
    "model.add(Conv2D(filters=128,kernel_size=3,activation='relu'))\n",
    "model.add(MaxPool2D(pool_size=2,strides=2))"
   ]
  },
  {
   "cell_type": "code",
   "execution_count": 14,
   "id": "cfc8fb3d-e037-455f-8544-da96454f939b",
   "metadata": {},
   "outputs": [],
   "source": [
    "model.add(Conv2D(filters=256,kernel_size=3,padding='same',activation='relu'))\n",
    "model.add(Conv2D(filters=256,kernel_size=3,activation='relu'))\n",
    "model.add(MaxPool2D(pool_size=2,strides=2))"
   ]
  },
  {
   "cell_type": "code",
   "execution_count": 15,
   "id": "c3d9ca46-79d4-40ba-a7f1-82627f637eae",
   "metadata": {},
   "outputs": [],
   "source": [
    "model.add(Conv2D(filters=512,kernel_size=3,padding='same',activation='relu'))\n",
    "model.add(Conv2D(filters=512,kernel_size=3,activation='relu'))\n",
    "model.add(MaxPool2D(pool_size=2,strides=2))"
   ]
  },
  {
   "cell_type": "markdown",
   "id": "e2a8fe38-72ac-41f3-9160-f06077cab043",
   "metadata": {},
   "source": [
    "#To avoid Overfitting \"It's often used in larger networks where the risk of overfitting is higher due to the large number of parameters."
   ]
  },
  {
   "cell_type": "code",
   "execution_count": 16,
   "id": "30156e3b-ca0b-4a80-a7dd-266f8ea68616",
   "metadata": {},
   "outputs": [],
   "source": [
    "model.add(Dropout(0.25))"
   ]
  },
  {
   "cell_type": "markdown",
   "id": "ef4622cd-4eea-42e6-947d-441329f1223f",
   "metadata": {},
   "source": [
    "#Converting it to a 1D array to add it in the hidden layer activation"
   ]
  },
  {
   "cell_type": "code",
   "execution_count": 17,
   "id": "143ffd7e-fc3d-40a3-be28-8403b39a5882",
   "metadata": {},
   "outputs": [],
   "source": [
    "model.add(Flatten())"
   ]
  },
  {
   "cell_type": "markdown",
   "id": "317643dd-27d4-4595-b831-51432aa47c8c",
   "metadata": {},
   "source": [
    "#hidden layer activation"
   ]
  },
  {
   "cell_type": "code",
   "execution_count": 18,
   "id": "791c2149-18d6-4459-aaf6-11d45ec547f1",
   "metadata": {},
   "outputs": [],
   "source": [
    "model.add(Dense(units=1500,activation='relu')) "
   ]
  },
  {
   "cell_type": "code",
   "execution_count": 19,
   "id": "f90c4725-dbaa-4add-9e94-f33869886257",
   "metadata": {},
   "outputs": [],
   "source": [
    "model.add(Dropout(0.4))"
   ]
  },
  {
   "cell_type": "markdown",
   "id": "d7d5c66a-2931-449c-a68c-4139bf59c92a",
   "metadata": {},
   "source": [
    "#Output layer"
   ]
  },
  {
   "cell_type": "code",
   "execution_count": 20,
   "id": "10e9fc7a-198a-4d41-98e6-9afc580a747b",
   "metadata": {},
   "outputs": [],
   "source": [
    "model.add(Dense(units=38,activation='softmax'))"
   ]
  },
  {
   "cell_type": "markdown",
   "id": "7e17c063-22c5-4dfc-a68d-d8a006bf831c",
   "metadata": {},
   "source": [
    "#Compiling Model"
   ]
  },
  {
   "cell_type": "code",
   "execution_count": 22,
   "id": "bb75c960-3a43-4595-b0b0-f9daa9f2827e",
   "metadata": {},
   "outputs": [],
   "source": [
    "model.compile(optimizer=tf.keras.optimizers.Adam(\n",
    "    learning_rate=0.001),loss='categorical_crossentropy',metrics=['accuracy'])"
   ]
  },
  {
   "cell_type": "code",
   "execution_count": 26,
   "id": "4a729861-24a7-406b-8a6b-a39e89fcbe71",
   "metadata": {},
   "outputs": [
    {
     "name": "stdout",
     "output_type": "stream",
     "text": [
      "Model: \"sequential\"\n",
      "_________________________________________________________________\n",
      " Layer (type)                Output Shape              Param #   \n",
      "=================================================================\n",
      " conv2d (Conv2D)             (None, 128, 128, 32)      896       \n",
      "                                                                 \n",
      " conv2d_1 (Conv2D)           (None, 126, 126, 32)      9248      \n",
      "                                                                 \n",
      " max_pooling2d (MaxPooling2D  (None, 63, 63, 32)       0         \n",
      " )                                                               \n",
      "                                                                 \n",
      " conv2d_2 (Conv2D)           (None, 63, 63, 64)        18496     \n",
      "                                                                 \n",
      " conv2d_3 (Conv2D)           (None, 61, 61, 64)        36928     \n",
      "                                                                 \n",
      " max_pooling2d_1 (MaxPooling  (None, 30, 30, 64)       0         \n",
      " 2D)                                                             \n",
      "                                                                 \n",
      " conv2d_4 (Conv2D)           (None, 30, 30, 128)       73856     \n",
      "                                                                 \n",
      " conv2d_5 (Conv2D)           (None, 28, 28, 128)       147584    \n",
      "                                                                 \n",
      " max_pooling2d_2 (MaxPooling  (None, 14, 14, 128)      0         \n",
      " 2D)                                                             \n",
      "                                                                 \n",
      " conv2d_6 (Conv2D)           (None, 14, 14, 256)       295168    \n",
      "                                                                 \n",
      " conv2d_7 (Conv2D)           (None, 12, 12, 256)       590080    \n",
      "                                                                 \n",
      " max_pooling2d_3 (MaxPooling  (None, 6, 6, 256)        0         \n",
      " 2D)                                                             \n",
      "                                                                 \n",
      " conv2d_8 (Conv2D)           (None, 6, 6, 512)         1180160   \n",
      "                                                                 \n",
      " conv2d_9 (Conv2D)           (None, 4, 4, 512)         2359808   \n",
      "                                                                 \n",
      " max_pooling2d_4 (MaxPooling  (None, 2, 2, 512)        0         \n",
      " 2D)                                                             \n",
      "                                                                 \n",
      " dropout (Dropout)           (None, 2, 2, 512)         0         \n",
      "                                                                 \n",
      " flatten (Flatten)           (None, 2048)              0         \n",
      "                                                                 \n",
      " dense (Dense)               (None, 1500)              3073500   \n",
      "                                                                 \n",
      " dropout_1 (Dropout)         (None, 1500)              0         \n",
      "                                                                 \n",
      " dense_1 (Dense)             (None, 38)                57038     \n",
      "                                                                 \n",
      "=================================================================\n",
      "Total params: 7,842,762\n",
      "Trainable params: 7,842,762\n",
      "Non-trainable params: 0\n",
      "_________________________________________________________________\n"
     ]
    }
   ],
   "source": [
    "model.summary()"
   ]
  },
  {
   "cell_type": "markdown",
   "id": "3349180a-16f7-484a-afbc-5c059a5e4897",
   "metadata": {},
   "source": [
    "#Model Training"
   ]
  },
  {
   "cell_type": "code",
   "execution_count": 28,
   "id": "ddbe4ed6-27ad-4d48-9756-bec46aeb3dee",
   "metadata": {},
   "outputs": [
    {
     "name": "stdout",
     "output_type": "stream",
     "text": [
      "Epoch 1/10\n",
      "2197/2197 [==============================] - 2189s 997ms/step - loss: 3.6373 - accuracy: 0.0277 - val_loss: 3.6362 - val_accuracy: 0.0286\n",
      "Epoch 2/10\n",
      "2197/2197 [==============================] - 2205s 1s/step - loss: 3.6366 - accuracy: 0.0279 - val_loss: 3.6361 - val_accuracy: 0.0287\n",
      "Epoch 3/10\n",
      "1851/2197 [========================>.....] - ETA: 4:57 - loss: 3.6363 - accuracy: 0.0276"
     ]
    },
    {
     "ename": "KeyboardInterrupt",
     "evalue": "",
     "output_type": "error",
     "traceback": [
      "\u001b[1;31m---------------------------------------------------------------------------\u001b[0m",
      "\u001b[1;31mKeyboardInterrupt\u001b[0m                         Traceback (most recent call last)",
      "Cell \u001b[1;32mIn[28], line 1\u001b[0m\n\u001b[1;32m----> 1\u001b[0m training_history \u001b[38;5;241m=\u001b[39m \u001b[43mmodel\u001b[49m\u001b[38;5;241;43m.\u001b[39;49m\u001b[43mfit\u001b[49m\u001b[43m(\u001b[49m\u001b[43mx\u001b[49m\u001b[38;5;241;43m=\u001b[39;49m\u001b[43mtraining_set\u001b[49m\u001b[43m,\u001b[49m\u001b[43mvalidation_data\u001b[49m\u001b[38;5;241;43m=\u001b[39;49m\u001b[43mvalidation_set\u001b[49m\u001b[43m,\u001b[49m\u001b[43mepochs\u001b[49m\u001b[38;5;241;43m=\u001b[39;49m\u001b[38;5;241;43m10\u001b[39;49m\u001b[43m)\u001b[49m\n",
      "File \u001b[1;32mD:\\Anaconda3\\envs\\tf_env\\lib\\site-packages\\keras\\utils\\traceback_utils.py:65\u001b[0m, in \u001b[0;36mfilter_traceback.<locals>.error_handler\u001b[1;34m(*args, **kwargs)\u001b[0m\n\u001b[0;32m     63\u001b[0m filtered_tb \u001b[38;5;241m=\u001b[39m \u001b[38;5;28;01mNone\u001b[39;00m\n\u001b[0;32m     64\u001b[0m \u001b[38;5;28;01mtry\u001b[39;00m:\n\u001b[1;32m---> 65\u001b[0m     \u001b[38;5;28;01mreturn\u001b[39;00m \u001b[43mfn\u001b[49m\u001b[43m(\u001b[49m\u001b[38;5;241;43m*\u001b[39;49m\u001b[43margs\u001b[49m\u001b[43m,\u001b[49m\u001b[43m \u001b[49m\u001b[38;5;241;43m*\u001b[39;49m\u001b[38;5;241;43m*\u001b[39;49m\u001b[43mkwargs\u001b[49m\u001b[43m)\u001b[49m\n\u001b[0;32m     66\u001b[0m \u001b[38;5;28;01mexcept\u001b[39;00m \u001b[38;5;167;01mException\u001b[39;00m \u001b[38;5;28;01mas\u001b[39;00m e:\n\u001b[0;32m     67\u001b[0m     filtered_tb \u001b[38;5;241m=\u001b[39m _process_traceback_frames(e\u001b[38;5;241m.\u001b[39m__traceback__)\n",
      "File \u001b[1;32mD:\\Anaconda3\\envs\\tf_env\\lib\\site-packages\\keras\\engine\\training.py:1564\u001b[0m, in \u001b[0;36mModel.fit\u001b[1;34m(self, x, y, batch_size, epochs, verbose, callbacks, validation_split, validation_data, shuffle, class_weight, sample_weight, initial_epoch, steps_per_epoch, validation_steps, validation_batch_size, validation_freq, max_queue_size, workers, use_multiprocessing)\u001b[0m\n\u001b[0;32m   1556\u001b[0m \u001b[38;5;28;01mwith\u001b[39;00m tf\u001b[38;5;241m.\u001b[39mprofiler\u001b[38;5;241m.\u001b[39mexperimental\u001b[38;5;241m.\u001b[39mTrace(\n\u001b[0;32m   1557\u001b[0m     \u001b[38;5;124m\"\u001b[39m\u001b[38;5;124mtrain\u001b[39m\u001b[38;5;124m\"\u001b[39m,\n\u001b[0;32m   1558\u001b[0m     epoch_num\u001b[38;5;241m=\u001b[39mepoch,\n\u001b[1;32m   (...)\u001b[0m\n\u001b[0;32m   1561\u001b[0m     _r\u001b[38;5;241m=\u001b[39m\u001b[38;5;241m1\u001b[39m,\n\u001b[0;32m   1562\u001b[0m ):\n\u001b[0;32m   1563\u001b[0m     callbacks\u001b[38;5;241m.\u001b[39mon_train_batch_begin(step)\n\u001b[1;32m-> 1564\u001b[0m     tmp_logs \u001b[38;5;241m=\u001b[39m \u001b[38;5;28;43mself\u001b[39;49m\u001b[38;5;241;43m.\u001b[39;49m\u001b[43mtrain_function\u001b[49m\u001b[43m(\u001b[49m\u001b[43miterator\u001b[49m\u001b[43m)\u001b[49m\n\u001b[0;32m   1565\u001b[0m     \u001b[38;5;28;01mif\u001b[39;00m data_handler\u001b[38;5;241m.\u001b[39mshould_sync:\n\u001b[0;32m   1566\u001b[0m         context\u001b[38;5;241m.\u001b[39masync_wait()\n",
      "File \u001b[1;32mD:\\Anaconda3\\envs\\tf_env\\lib\\site-packages\\tensorflow\\python\\util\\traceback_utils.py:150\u001b[0m, in \u001b[0;36mfilter_traceback.<locals>.error_handler\u001b[1;34m(*args, **kwargs)\u001b[0m\n\u001b[0;32m    148\u001b[0m filtered_tb \u001b[38;5;241m=\u001b[39m \u001b[38;5;28;01mNone\u001b[39;00m\n\u001b[0;32m    149\u001b[0m \u001b[38;5;28;01mtry\u001b[39;00m:\n\u001b[1;32m--> 150\u001b[0m   \u001b[38;5;28;01mreturn\u001b[39;00m \u001b[43mfn\u001b[49m\u001b[43m(\u001b[49m\u001b[38;5;241;43m*\u001b[39;49m\u001b[43margs\u001b[49m\u001b[43m,\u001b[49m\u001b[43m \u001b[49m\u001b[38;5;241;43m*\u001b[39;49m\u001b[38;5;241;43m*\u001b[39;49m\u001b[43mkwargs\u001b[49m\u001b[43m)\u001b[49m\n\u001b[0;32m    151\u001b[0m \u001b[38;5;28;01mexcept\u001b[39;00m \u001b[38;5;167;01mException\u001b[39;00m \u001b[38;5;28;01mas\u001b[39;00m e:\n\u001b[0;32m    152\u001b[0m   filtered_tb \u001b[38;5;241m=\u001b[39m _process_traceback_frames(e\u001b[38;5;241m.\u001b[39m__traceback__)\n",
      "File \u001b[1;32mD:\\Anaconda3\\envs\\tf_env\\lib\\site-packages\\tensorflow\\python\\eager\\def_function.py:915\u001b[0m, in \u001b[0;36mFunction.__call__\u001b[1;34m(self, *args, **kwds)\u001b[0m\n\u001b[0;32m    912\u001b[0m compiler \u001b[38;5;241m=\u001b[39m \u001b[38;5;124m\"\u001b[39m\u001b[38;5;124mxla\u001b[39m\u001b[38;5;124m\"\u001b[39m \u001b[38;5;28;01mif\u001b[39;00m \u001b[38;5;28mself\u001b[39m\u001b[38;5;241m.\u001b[39m_jit_compile \u001b[38;5;28;01melse\u001b[39;00m \u001b[38;5;124m\"\u001b[39m\u001b[38;5;124mnonXla\u001b[39m\u001b[38;5;124m\"\u001b[39m\n\u001b[0;32m    914\u001b[0m \u001b[38;5;28;01mwith\u001b[39;00m OptionalXlaContext(\u001b[38;5;28mself\u001b[39m\u001b[38;5;241m.\u001b[39m_jit_compile):\n\u001b[1;32m--> 915\u001b[0m   result \u001b[38;5;241m=\u001b[39m \u001b[38;5;28;43mself\u001b[39;49m\u001b[38;5;241;43m.\u001b[39;49m\u001b[43m_call\u001b[49m\u001b[43m(\u001b[49m\u001b[38;5;241;43m*\u001b[39;49m\u001b[43margs\u001b[49m\u001b[43m,\u001b[49m\u001b[43m \u001b[49m\u001b[38;5;241;43m*\u001b[39;49m\u001b[38;5;241;43m*\u001b[39;49m\u001b[43mkwds\u001b[49m\u001b[43m)\u001b[49m\n\u001b[0;32m    917\u001b[0m new_tracing_count \u001b[38;5;241m=\u001b[39m \u001b[38;5;28mself\u001b[39m\u001b[38;5;241m.\u001b[39mexperimental_get_tracing_count()\n\u001b[0;32m    918\u001b[0m without_tracing \u001b[38;5;241m=\u001b[39m (tracing_count \u001b[38;5;241m==\u001b[39m new_tracing_count)\n",
      "File \u001b[1;32mD:\\Anaconda3\\envs\\tf_env\\lib\\site-packages\\tensorflow\\python\\eager\\def_function.py:947\u001b[0m, in \u001b[0;36mFunction._call\u001b[1;34m(self, *args, **kwds)\u001b[0m\n\u001b[0;32m    944\u001b[0m   \u001b[38;5;28mself\u001b[39m\u001b[38;5;241m.\u001b[39m_lock\u001b[38;5;241m.\u001b[39mrelease()\n\u001b[0;32m    945\u001b[0m   \u001b[38;5;66;03m# In this case we have created variables on the first call, so we run the\u001b[39;00m\n\u001b[0;32m    946\u001b[0m   \u001b[38;5;66;03m# defunned version which is guaranteed to never create variables.\u001b[39;00m\n\u001b[1;32m--> 947\u001b[0m   \u001b[38;5;28;01mreturn\u001b[39;00m \u001b[38;5;28;43mself\u001b[39;49m\u001b[38;5;241;43m.\u001b[39;49m\u001b[43m_stateless_fn\u001b[49m\u001b[43m(\u001b[49m\u001b[38;5;241;43m*\u001b[39;49m\u001b[43margs\u001b[49m\u001b[43m,\u001b[49m\u001b[43m \u001b[49m\u001b[38;5;241;43m*\u001b[39;49m\u001b[38;5;241;43m*\u001b[39;49m\u001b[43mkwds\u001b[49m\u001b[43m)\u001b[49m  \u001b[38;5;66;03m# pylint: disable=not-callable\u001b[39;00m\n\u001b[0;32m    948\u001b[0m \u001b[38;5;28;01melif\u001b[39;00m \u001b[38;5;28mself\u001b[39m\u001b[38;5;241m.\u001b[39m_stateful_fn \u001b[38;5;129;01mis\u001b[39;00m \u001b[38;5;129;01mnot\u001b[39;00m \u001b[38;5;28;01mNone\u001b[39;00m:\n\u001b[0;32m    949\u001b[0m   \u001b[38;5;66;03m# Release the lock early so that multiple threads can perform the call\u001b[39;00m\n\u001b[0;32m    950\u001b[0m   \u001b[38;5;66;03m# in parallel.\u001b[39;00m\n\u001b[0;32m    951\u001b[0m   \u001b[38;5;28mself\u001b[39m\u001b[38;5;241m.\u001b[39m_lock\u001b[38;5;241m.\u001b[39mrelease()\n",
      "File \u001b[1;32mD:\\Anaconda3\\envs\\tf_env\\lib\\site-packages\\tensorflow\\python\\eager\\function.py:2496\u001b[0m, in \u001b[0;36mFunction.__call__\u001b[1;34m(self, *args, **kwargs)\u001b[0m\n\u001b[0;32m   2493\u001b[0m \u001b[38;5;28;01mwith\u001b[39;00m \u001b[38;5;28mself\u001b[39m\u001b[38;5;241m.\u001b[39m_lock:\n\u001b[0;32m   2494\u001b[0m   (graph_function,\n\u001b[0;32m   2495\u001b[0m    filtered_flat_args) \u001b[38;5;241m=\u001b[39m \u001b[38;5;28mself\u001b[39m\u001b[38;5;241m.\u001b[39m_maybe_define_function(args, kwargs)\n\u001b[1;32m-> 2496\u001b[0m \u001b[38;5;28;01mreturn\u001b[39;00m \u001b[43mgraph_function\u001b[49m\u001b[38;5;241;43m.\u001b[39;49m\u001b[43m_call_flat\u001b[49m\u001b[43m(\u001b[49m\n\u001b[0;32m   2497\u001b[0m \u001b[43m    \u001b[49m\u001b[43mfiltered_flat_args\u001b[49m\u001b[43m,\u001b[49m\u001b[43m \u001b[49m\u001b[43mcaptured_inputs\u001b[49m\u001b[38;5;241;43m=\u001b[39;49m\u001b[43mgraph_function\u001b[49m\u001b[38;5;241;43m.\u001b[39;49m\u001b[43mcaptured_inputs\u001b[49m\u001b[43m)\u001b[49m\n",
      "File \u001b[1;32mD:\\Anaconda3\\envs\\tf_env\\lib\\site-packages\\tensorflow\\python\\eager\\function.py:1862\u001b[0m, in \u001b[0;36mConcreteFunction._call_flat\u001b[1;34m(self, args, captured_inputs, cancellation_manager)\u001b[0m\n\u001b[0;32m   1858\u001b[0m possible_gradient_type \u001b[38;5;241m=\u001b[39m gradients_util\u001b[38;5;241m.\u001b[39mPossibleTapeGradientTypes(args)\n\u001b[0;32m   1859\u001b[0m \u001b[38;5;28;01mif\u001b[39;00m (possible_gradient_type \u001b[38;5;241m==\u001b[39m gradients_util\u001b[38;5;241m.\u001b[39mPOSSIBLE_GRADIENT_TYPES_NONE\n\u001b[0;32m   1860\u001b[0m     \u001b[38;5;129;01mand\u001b[39;00m executing_eagerly):\n\u001b[0;32m   1861\u001b[0m   \u001b[38;5;66;03m# No tape is watching; skip to running the function.\u001b[39;00m\n\u001b[1;32m-> 1862\u001b[0m   \u001b[38;5;28;01mreturn\u001b[39;00m \u001b[38;5;28mself\u001b[39m\u001b[38;5;241m.\u001b[39m_build_call_outputs(\u001b[38;5;28;43mself\u001b[39;49m\u001b[38;5;241;43m.\u001b[39;49m\u001b[43m_inference_function\u001b[49m\u001b[38;5;241;43m.\u001b[39;49m\u001b[43mcall\u001b[49m\u001b[43m(\u001b[49m\n\u001b[0;32m   1863\u001b[0m \u001b[43m      \u001b[49m\u001b[43mctx\u001b[49m\u001b[43m,\u001b[49m\u001b[43m \u001b[49m\u001b[43margs\u001b[49m\u001b[43m,\u001b[49m\u001b[43m \u001b[49m\u001b[43mcancellation_manager\u001b[49m\u001b[38;5;241;43m=\u001b[39;49m\u001b[43mcancellation_manager\u001b[49m\u001b[43m)\u001b[49m)\n\u001b[0;32m   1864\u001b[0m forward_backward \u001b[38;5;241m=\u001b[39m \u001b[38;5;28mself\u001b[39m\u001b[38;5;241m.\u001b[39m_select_forward_and_backward_functions(\n\u001b[0;32m   1865\u001b[0m     args,\n\u001b[0;32m   1866\u001b[0m     possible_gradient_type,\n\u001b[0;32m   1867\u001b[0m     executing_eagerly)\n\u001b[0;32m   1868\u001b[0m forward_function, args_with_tangents \u001b[38;5;241m=\u001b[39m forward_backward\u001b[38;5;241m.\u001b[39mforward()\n",
      "File \u001b[1;32mD:\\Anaconda3\\envs\\tf_env\\lib\\site-packages\\tensorflow\\python\\eager\\function.py:499\u001b[0m, in \u001b[0;36m_EagerDefinedFunction.call\u001b[1;34m(self, ctx, args, cancellation_manager)\u001b[0m\n\u001b[0;32m    497\u001b[0m \u001b[38;5;28;01mwith\u001b[39;00m _InterpolateFunctionError(\u001b[38;5;28mself\u001b[39m):\n\u001b[0;32m    498\u001b[0m   \u001b[38;5;28;01mif\u001b[39;00m cancellation_manager \u001b[38;5;129;01mis\u001b[39;00m \u001b[38;5;28;01mNone\u001b[39;00m:\n\u001b[1;32m--> 499\u001b[0m     outputs \u001b[38;5;241m=\u001b[39m \u001b[43mexecute\u001b[49m\u001b[38;5;241;43m.\u001b[39;49m\u001b[43mexecute\u001b[49m\u001b[43m(\u001b[49m\n\u001b[0;32m    500\u001b[0m \u001b[43m        \u001b[49m\u001b[38;5;28;43mstr\u001b[39;49m\u001b[43m(\u001b[49m\u001b[38;5;28;43mself\u001b[39;49m\u001b[38;5;241;43m.\u001b[39;49m\u001b[43msignature\u001b[49m\u001b[38;5;241;43m.\u001b[39;49m\u001b[43mname\u001b[49m\u001b[43m)\u001b[49m\u001b[43m,\u001b[49m\n\u001b[0;32m    501\u001b[0m \u001b[43m        \u001b[49m\u001b[43mnum_outputs\u001b[49m\u001b[38;5;241;43m=\u001b[39;49m\u001b[38;5;28;43mself\u001b[39;49m\u001b[38;5;241;43m.\u001b[39;49m\u001b[43m_num_outputs\u001b[49m\u001b[43m,\u001b[49m\n\u001b[0;32m    502\u001b[0m \u001b[43m        \u001b[49m\u001b[43minputs\u001b[49m\u001b[38;5;241;43m=\u001b[39;49m\u001b[43margs\u001b[49m\u001b[43m,\u001b[49m\n\u001b[0;32m    503\u001b[0m \u001b[43m        \u001b[49m\u001b[43mattrs\u001b[49m\u001b[38;5;241;43m=\u001b[39;49m\u001b[43mattrs\u001b[49m\u001b[43m,\u001b[49m\n\u001b[0;32m    504\u001b[0m \u001b[43m        \u001b[49m\u001b[43mctx\u001b[49m\u001b[38;5;241;43m=\u001b[39;49m\u001b[43mctx\u001b[49m\u001b[43m)\u001b[49m\n\u001b[0;32m    505\u001b[0m   \u001b[38;5;28;01melse\u001b[39;00m:\n\u001b[0;32m    506\u001b[0m     outputs \u001b[38;5;241m=\u001b[39m execute\u001b[38;5;241m.\u001b[39mexecute_with_cancellation(\n\u001b[0;32m    507\u001b[0m         \u001b[38;5;28mstr\u001b[39m(\u001b[38;5;28mself\u001b[39m\u001b[38;5;241m.\u001b[39msignature\u001b[38;5;241m.\u001b[39mname),\n\u001b[0;32m    508\u001b[0m         num_outputs\u001b[38;5;241m=\u001b[39m\u001b[38;5;28mself\u001b[39m\u001b[38;5;241m.\u001b[39m_num_outputs,\n\u001b[1;32m   (...)\u001b[0m\n\u001b[0;32m    511\u001b[0m         ctx\u001b[38;5;241m=\u001b[39mctx,\n\u001b[0;32m    512\u001b[0m         cancellation_manager\u001b[38;5;241m=\u001b[39mcancellation_manager)\n",
      "File \u001b[1;32mD:\\Anaconda3\\envs\\tf_env\\lib\\site-packages\\tensorflow\\python\\eager\\execute.py:54\u001b[0m, in \u001b[0;36mquick_execute\u001b[1;34m(op_name, num_outputs, inputs, attrs, ctx, name)\u001b[0m\n\u001b[0;32m     52\u001b[0m \u001b[38;5;28;01mtry\u001b[39;00m:\n\u001b[0;32m     53\u001b[0m   ctx\u001b[38;5;241m.\u001b[39mensure_initialized()\n\u001b[1;32m---> 54\u001b[0m   tensors \u001b[38;5;241m=\u001b[39m \u001b[43mpywrap_tfe\u001b[49m\u001b[38;5;241;43m.\u001b[39;49m\u001b[43mTFE_Py_Execute\u001b[49m\u001b[43m(\u001b[49m\u001b[43mctx\u001b[49m\u001b[38;5;241;43m.\u001b[39;49m\u001b[43m_handle\u001b[49m\u001b[43m,\u001b[49m\u001b[43m \u001b[49m\u001b[43mdevice_name\u001b[49m\u001b[43m,\u001b[49m\u001b[43m \u001b[49m\u001b[43mop_name\u001b[49m\u001b[43m,\u001b[49m\n\u001b[0;32m     55\u001b[0m \u001b[43m                                      \u001b[49m\u001b[43minputs\u001b[49m\u001b[43m,\u001b[49m\u001b[43m \u001b[49m\u001b[43mattrs\u001b[49m\u001b[43m,\u001b[49m\u001b[43m \u001b[49m\u001b[43mnum_outputs\u001b[49m\u001b[43m)\u001b[49m\n\u001b[0;32m     56\u001b[0m \u001b[38;5;28;01mexcept\u001b[39;00m core\u001b[38;5;241m.\u001b[39m_NotOkStatusException \u001b[38;5;28;01mas\u001b[39;00m e:\n\u001b[0;32m     57\u001b[0m   \u001b[38;5;28;01mif\u001b[39;00m name \u001b[38;5;129;01mis\u001b[39;00m \u001b[38;5;129;01mnot\u001b[39;00m \u001b[38;5;28;01mNone\u001b[39;00m:\n",
      "\u001b[1;31mKeyboardInterrupt\u001b[0m: "
     ]
    }
   ],
   "source": [
    "training_history = model.fit(x=training_set,validation_data=validation_set,epochs=10)"
   ]
  },
  {
   "cell_type": "markdown",
   "id": "aaedcc79-4e4a-46bb-8685-a79e8bd3642e",
   "metadata": {},
   "source": [
    "#Model Evaluation\n",
    "##Model evaluation on Training set"
   ]
  },
  {
   "cell_type": "code",
   "execution_count": null,
   "id": "c8df8c81-8dbf-43f1-b661-3599c9d23e56",
   "metadata": {},
   "outputs": [],
   "source": [
    "train_loss,train_acc = model.evaluate(training_set)"
   ]
  },
  {
   "cell_type": "code",
   "execution_count": null,
   "id": "5cefdacb-7d92-48b5-9243-a325b0df613b",
   "metadata": {},
   "outputs": [],
   "source": [
    "print(train_loss,train_acc)"
   ]
  },
  {
   "cell_type": "markdown",
   "id": "712fdd30-32bc-4de3-a3cd-8165c8af0868",
   "metadata": {},
   "source": [
    "#Model on validation set"
   ]
  },
  {
   "cell_type": "code",
   "execution_count": null,
   "id": "4a254a77-a59b-4e2e-a114-b1a2ad5c727f",
   "metadata": {},
   "outputs": [],
   "source": [
    "val_loss,val_acc = model.evaluate(validation_set)"
   ]
  },
  {
   "cell_type": "code",
   "execution_count": null,
   "id": "c2dc696d-ca24-4038-874a-e37f6302beeb",
   "metadata": {},
   "outputs": [],
   "source": [
    "print(val_loss,val_acc)"
   ]
  },
  {
   "cell_type": "markdown",
   "id": "a60ac381-9092-4f4c-9168-d14448f40a5f",
   "metadata": {},
   "source": [
    "#Saving Model"
   ]
  },
  {
   "cell_type": "code",
   "execution_count": null,
   "id": "cff76887-5322-4097-b9cd-94deecf93aed",
   "metadata": {},
   "outputs": [],
   "source": [
    "model.save(\"leaf_disease_trained_model.keras\")\n",
    "model.save(\"leaf_disease_trained_model.h5\")"
   ]
  },
  {
   "cell_type": "code",
   "execution_count": null,
   "id": "ecc73b07-03c7-4c6b-9168-e98c4f99a29f",
   "metadata": {},
   "outputs": [],
   "source": [
    "training_history.history"
   ]
  },
  {
   "cell_type": "markdown",
   "id": "cc05aca1-d140-469b-aa97-e48d6e1692ce",
   "metadata": {},
   "source": [
    "#Recording History in json"
   ]
  },
  {
   "cell_type": "code",
   "execution_count": null,
   "id": "eaca1f34-4865-4c69-a723-c83d4340e36f",
   "metadata": {},
   "outputs": [],
   "source": [
    "import json\n",
    "with open(\"training_hist.json\",\"w\") as f:\n",
    "    json.dump(training_history.history,f)"
   ]
  },
  {
   "cell_type": "code",
   "execution_count": null,
   "id": "06e959c0-f5b1-47bb-8743-26eb49d48cb9",
   "metadata": {},
   "outputs": [],
   "source": []
  },
  {
   "cell_type": "markdown",
   "id": "932796a2-ec05-4274-887d-acd5de6c4024",
   "metadata": {},
   "source": [
    "#Accuracy visualization"
   ]
  },
  {
   "cell_type": "code",
   "execution_count": null,
   "id": "97ad6d6f-3662-4650-ab1f-0904cb1fdbae",
   "metadata": {},
   "outputs": [],
   "source": [
    "import matplotlib.pyplot as plt\n",
    "epochs = [i for i in range(1,11)]\n",
    "plt.plot(epochs,training_history.history['accuracy'],color='red',label='Training Accuracy')\n",
    "plt.plot(epochs,training_history.history['val_accuracy'],color='blue',label='Validation Accuracy')\n",
    "plt.xlabel(\"No. of Epochs\")\n",
    "plt.ylabel(\"Accuracy Result\")\n",
    "plt.title(\"Visualization of Accuracy Result\")\n",
    "plt.legend()\n",
    "plt.show()"
   ]
  },
  {
   "cell_type": "code",
   "execution_count": null,
   "id": "ef4b0724-87d4-4147-8da5-85eb1a354d0e",
   "metadata": {},
   "outputs": [],
   "source": []
  },
  {
   "cell_type": "markdown",
   "id": "7808cb46-d720-4568-86a9-c783037ba017",
   "metadata": {},
   "source": [
    "#Some other metrics for model evaluation"
   ]
  },
  {
   "cell_type": "code",
   "execution_count": null,
   "id": "52702dc8-6b36-4008-8ebf-8862ba56faa7",
   "metadata": {},
   "outputs": [],
   "source": [
    "class_name = validation_set.class_names\n",
    "# class_name"
   ]
  },
  {
   "cell_type": "code",
   "execution_count": null,
   "id": "0b882822-d78f-4363-b072-9d9a23dda063",
   "metadata": {},
   "outputs": [],
   "source": []
  }
 ],
 "metadata": {
  "kernelspec": {
   "display_name": "Python (tf_env)",
   "language": "python",
   "name": "tf_env"
  },
  "language_info": {
   "codemirror_mode": {
    "name": "ipython",
    "version": 3
   },
   "file_extension": ".py",
   "mimetype": "text/x-python",
   "name": "python",
   "nbconvert_exporter": "python",
   "pygments_lexer": "ipython3",
   "version": "3.8.18"
  }
 },
 "nbformat": 4,
 "nbformat_minor": 5
}
