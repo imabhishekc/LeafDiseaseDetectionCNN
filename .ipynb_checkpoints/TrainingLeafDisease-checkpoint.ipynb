{
 "cells": [
  {
   "cell_type": "code",
   "execution_count": 1,
   "id": "633580a4-43d0-482e-9f0d-3a1979fe95e8",
   "metadata": {},
   "outputs": [],
   "source": [
    "from keras.models import Sequential"
   ]
  },
  {
   "cell_type": "code",
   "execution_count": 2,
   "id": "70c6aa4c-4331-4695-889a-cccf5f2a0787",
   "metadata": {},
   "outputs": [],
   "source": [
    "from keras.layers import Conv2D\n",
    "from keras.layers import MaxPooling2D\n",
    "from keras.layers import Flatten\n",
    "from keras.preprocessing.image import ImageDataGenerator\n",
    "from keras.layers import Dense"
   ]
  },
  {
   "cell_type": "code",
   "execution_count": 3,
   "id": "160a69fb-0394-413e-80e5-58768643676f",
   "metadata": {},
   "outputs": [],
   "source": [
    "from keras.layers import BatchNormalization\n",
    "from keras.layers import Dropout"
   ]
  },
  {
   "cell_type": "code",
   "execution_count": 4,
   "id": "0f6366eb-c800-4584-81ca-718ce002243f",
   "metadata": {},
   "outputs": [],
   "source": [
    "#basic cnn\n",
    "model = Sequential()\n",
    "model.add(Conv2D(32, kernel_size = (3, 3), activation='relu', input_shape=(128,128, 3)))\n",
    "model.add(MaxPooling2D(pool_size=(2,2)))\n",
    "model.add(BatchNormalization())\n",
    "model.add(Conv2D(64, kernel_size=(3,3), activation='relu'))\n",
    "model.add(MaxPooling2D(pool_size=(2,2)))\n",
    "model.add(BatchNormalization())\n",
    "model.add(Conv2D(64, kernel_size=(3,3), activation='relu'))\n",
    "model.add(MaxPooling2D(pool_size=(2,2)))\n",
    "model.add(BatchNormalization())\n",
    "model.add(Conv2D(96, kernel_size=(3,3), activation='relu'))\n",
    "model.add(MaxPooling2D(pool_size=(2,2)))\n",
    "model.add(BatchNormalization())\n",
    "model.add(Conv2D(32, kernel_size=(3,3), activation='relu'))\n",
    "model.add(MaxPooling2D(pool_size=(2,2)))\n",
    "model.add(BatchNormalization())\n",
    "model.add(Dropout(0.2))\n",
    "model.add(Flatten())\n",
    "model.add(Dense(128, activation='relu'))\n",
    "model.add(Dropout(0.3))\n",
    "model.add(Dense(25, activation = 'softmax'))"
   ]
  },
  {
   "cell_type": "code",
   "execution_count": 5,
   "id": "bdd6b1d3-9bd0-4409-bf97-baf1235a0b85",
   "metadata": {},
   "outputs": [],
   "source": [
    "model.compile(optimizer = 'adam', loss = 'categorical_crossentropy', metrics = ['accuracy'])"
   ]
  },
  {
   "cell_type": "code",
   "execution_count": 6,
   "id": "28bb5780-3df5-418f-9b00-7cf01e82279f",
   "metadata": {},
   "outputs": [],
   "source": [
    "train_datagen = ImageDataGenerator(rescale = None,\n",
    "                                   shear_range = 0.2,\n",
    "                                   zoom_range = 0.2,\n",
    "                                   horizontal_flip = True)"
   ]
  },
  {
   "cell_type": "code",
   "execution_count": 7,
   "id": "b7d86ee7-487e-4522-9c2a-c1a45e648881",
   "metadata": {},
   "outputs": [
    {
     "name": "stdout",
     "output_type": "stream",
     "text": [
      "Found 70296 images belonging to 38 classes.\n",
      "{'Apple___Apple_scab': 0, 'Apple___Black_rot': 1, 'Apple___Cedar_apple_rust': 2, 'Apple___healthy': 3, 'Blueberry___healthy': 4, 'Cherry_(including_sour)___Powdery_mildew': 5, 'Cherry_(including_sour)___healthy': 6, 'Corn_(maize)___Cercospora_leaf_spot Gray_leaf_spot': 7, 'Corn_(maize)___Common_rust_': 8, 'Corn_(maize)___Northern_Leaf_Blight': 9, 'Corn_(maize)___healthy': 10, 'Grape___Black_rot': 11, 'Grape___Esca_(Black_Measles)': 12, 'Grape___Leaf_blight_(Isariopsis_Leaf_Spot)': 13, 'Grape___healthy': 14, 'Orange___Haunglongbing_(Citrus_greening)': 15, 'Peach___Bacterial_spot': 16, 'Peach___healthy': 17, 'Pepper,_bell___Bacterial_spot': 18, 'Pepper,_bell___healthy': 19, 'Potato___Early_blight': 20, 'Potato___Late_blight': 21, 'Potato___healthy': 22, 'Raspberry___healthy': 23, 'Soybean___healthy': 24, 'Squash___Powdery_mildew': 25, 'Strawberry___Leaf_scorch': 26, 'Strawberry___healthy': 27, 'Tomato___Bacterial_spot': 28, 'Tomato___Early_blight': 29, 'Tomato___Late_blight': 30, 'Tomato___Leaf_Mold': 31, 'Tomato___Septoria_leaf_spot': 32, 'Tomato___Spider_mites Two-spotted_spider_mite': 33, 'Tomato___Target_Spot': 34, 'Tomato___Tomato_Yellow_Leaf_Curl_Virus': 35, 'Tomato___Tomato_mosaic_virus': 36, 'Tomato___healthy': 37}\n",
      "Found 33 images belonging to 1 classes.\n"
     ]
    }
   ],
   "source": [
    "# # Define the image data generator for the training set\n",
    "# train_datagen = ImageDataGenerator(rescale=1./255)\n",
    "\n",
    "# # Load the training set\n",
    "# training_set = train_datagen.flow_from_directory(\n",
    "#     r'D:\\Anaconda3\\collegeproject\\leaf-disease-detection-project\\train',\n",
    "#     target_size=(128, 128),\n",
    "#     batch_size=32,\n",
    "#     class_mode='categorical'\n",
    "# )\n",
    "# Define the image data generator for the training set\n",
    "train_datagen = ImageDataGenerator(rescale=1./255)\n",
    "\n",
    "# Define the image data generator for the test set\n",
    "test_datagen = ImageDataGenerator(rescale=1./255)\n",
    "\n",
    "# Load the training set\n",
    "training_set = train_datagen.flow_from_directory(\n",
    "    r'D:\\Anaconda3\\collegeproject\\leaf-disease-detection-project\\train',\n",
    "    target_size=(128, 128),\n",
    "    batch_size=32,\n",
    "    class_mode='categorical'\n",
    ")\n",
    "\n",
    "# Print the class indices\n",
    "labels = training_set.class_indices\n",
    "print(labels)\n",
    "\n",
    "# Load the test set\n",
    "test_set = test_datagen.flow_from_directory(\n",
    "    r'D:\\Anaconda3\\collegeproject\\leaf-disease-detection-project\\test',\n",
    "    target_size=(128, 128),\n",
    "    batch_size=32,\n",
    "    class_mode='categorical'\n",
    ")"
   ]
  },
  {
   "cell_type": "code",
   "execution_count": 8,
   "id": "cd9f9390-a01b-46e6-9ecf-72e1682899f5",
   "metadata": {},
   "outputs": [
    {
     "name": "stdout",
     "output_type": "stream",
     "text": [
      "Epoch 1/10\n",
      "375/375 [==============================] - ETA: 0s - loss: 2.1548 - accuracy: 0.4075WARNING:tensorflow:Your input ran out of data; interrupting training. Make sure that your dataset or generator can generate at least `steps_per_epoch * epochs` batches (in this case, 125 batches). You may need to use the repeat() function when building your dataset.\n",
      "375/375 [==============================] - 183s 481ms/step - loss: 2.1548 - accuracy: 0.4075 - val_loss: 327.2682 - val_accuracy: 0.0606\n",
      "Epoch 2/10\n",
      "375/375 [==============================] - 164s 436ms/step - loss: 1.0496 - accuracy: 0.6839\n",
      "Epoch 3/10\n",
      "375/375 [==============================] - 140s 374ms/step - loss: 0.7579 - accuracy: 0.7681\n",
      "Epoch 4/10\n",
      "375/375 [==============================] - 125s 333ms/step - loss: 0.5965 - accuracy: 0.8147\n",
      "Epoch 5/10\n",
      "375/375 [==============================] - 111s 296ms/step - loss: 0.5119 - accuracy: 0.8455\n",
      "Epoch 6/10\n",
      "375/375 [==============================] - 100s 268ms/step - loss: 0.4192 - accuracy: 0.8720\n",
      "Epoch 7/10\n",
      "375/375 [==============================] - 97s 258ms/step - loss: 0.3996 - accuracy: 0.8773\n",
      "Epoch 8/10\n",
      "375/375 [==============================] - 98s 260ms/step - loss: 0.3453 - accuracy: 0.8913\n",
      "Epoch 9/10\n",
      "375/375 [==============================] - 85s 227ms/step - loss: 0.3067 - accuracy: 0.9030\n",
      "Epoch 10/10\n",
      "375/375 [==============================] - 92s 244ms/step - loss: 0.2697 - accuracy: 0.9164\n"
     ]
    },
    {
     "data": {
      "text/plain": [
       "<keras.callbacks.History at 0x185242483d0>"
      ]
     },
     "execution_count": 8,
     "metadata": {},
     "output_type": "execute_result"
    }
   ],
   "source": [
    "# labels2 = (test_set.class_indices)\n",
    "# print(labels2)\n",
    "\n",
    "# model.fit_generator(training_set,\n",
    "#                          steps_per_epoch = 375,\n",
    "#                          epochs = 10,\n",
    "#                          validation_data = test_set,\n",
    "#                          validation_steps = 125)\n",
    "\n",
    "# Assuming you have 38 classes in your dataset\n",
    "num_classes = 38\n",
    "\n",
    "# Define the model\n",
    "model = Sequential()\n",
    "\n",
    "model.add(Conv2D(32, (3, 3), input_shape=(128, 128, 3), activation='relu'))\n",
    "model.add(MaxPooling2D(pool_size=(2, 2)))\n",
    "\n",
    "model.add(Conv2D(32, (3, 3), activation='relu'))\n",
    "model.add(MaxPooling2D(pool_size=(2, 2)))\n",
    "\n",
    "model.add(Flatten())\n",
    "\n",
    "model.add(Dense(128, activation='relu'))\n",
    "model.add(Dense(num_classes, activation='softmax'))\n",
    "\n",
    "# Compile the model\n",
    "model.compile(optimizer='adam', loss='categorical_crossentropy', metrics=['accuracy'])\n",
    "\n",
    "# Now, train the model\n",
    "model.fit(\n",
    "    training_set,\n",
    "    steps_per_epoch=375,\n",
    "    epochs=10,\n",
    "    validation_data=test_set,\n",
    "    validation_steps=125\n",
    ")"
   ]
  },
  {
   "cell_type": "code",
   "execution_count": 9,
   "id": "caa3f7ba-6b98-4c79-ad43-e1e4c5e62fd8",
   "metadata": {},
   "outputs": [
    {
     "name": "stdout",
     "output_type": "stream",
     "text": [
      "Saved model to disk\n"
     ]
    }
   ],
   "source": [
    "model_json=model.to_json()\n",
    "with open(\"model1.json\", \"w\") as json_file:\n",
    "    json_file.write(model_json)\n",
    "# serialize weights to HDF5\n",
    "    model.save_weights(\"model1.h5\")\n",
    "    print(\"Saved model to disk\")"
   ]
  }
 ],
 "metadata": {
  "kernelspec": {
   "display_name": "Python (tf_env)",
   "language": "python",
   "name": "tf_env"
  },
  "language_info": {
   "codemirror_mode": {
    "name": "ipython",
    "version": 3
   },
   "file_extension": ".py",
   "mimetype": "text/x-python",
   "name": "python",
   "nbconvert_exporter": "python",
   "pygments_lexer": "ipython3",
   "version": "3.8.18"
  }
 },
 "nbformat": 4,
 "nbformat_minor": 5
}
